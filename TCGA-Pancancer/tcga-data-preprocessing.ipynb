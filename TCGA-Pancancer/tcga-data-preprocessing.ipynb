{
 "cells": [
  {
   "cell_type": "markdown",
   "metadata": {},
   "source": [
    "# TCGA Data Preprocessing\n",
    "---\n",
    "\n",
    "Preprocessing the TCGA dataset from the Pancancer paper (https://www.ncbi.nlm.nih.gov/pubmed/29625048).\n",
    "\n",
    "The Cancer Genome Atlas (TCGA), a landmark cancer genomics program, molecularly characterized over 20,000 primary cancer and matched normal samples spanning 33 cancer types. This joint effort between the National Cancer Institute and the National Human Genome Research Institute began in 2006, bringing together researchers from diverse disciplines and multiple institutions."
   ]
  },
  {
   "cell_type": "markdown",
   "metadata": {
    "colab_type": "text",
    "id": "KOdmFzXqF7nq",
    "toc-hr-collapsed": true
   },
   "source": [
    "## Importing the necessary packages"
   ]
  },
  {
   "cell_type": "code",
   "execution_count": null,
   "metadata": {
    "colab": {},
    "colab_type": "code",
    "id": "G5RrWE9R_Nkl"
   },
   "outputs": [],
   "source": [
    "import os                                  # os handles directory/workspace changes\n",
    "import yaml                                # Save and load YAML files\n",
    "import numpy as np                         # NumPy to handle numeric and NaN operations\n",
    "from functools import reduce               # Parallelize functions"
   ]
  },
  {
   "cell_type": "code",
   "execution_count": null,
   "metadata": {},
   "outputs": [],
   "source": [
    "import os\n",
    "import pandas \n",
    "\n",
    "# Set base data path\n",
    "data_path = '/Users/elenalickel/Desktop/Thesis/IRR_Code/TCGA-Pancancer/'\n",
    "\n",
    "# File names\n",
    "rna_file = 'EBPlusPlusAdjustPANCAN_IlluminaHiSeq_RNASeqV2.geneExp.tsv'\n",
    "abs_file = 'TCGA_mastercalls.abs_segtabs.fixed.txt'\n",
    "cdr_file = 'TCGA-CDR-SupplementalTableS1.xlsx'\n",
    "\n",
    "# Full paths\n",
    "rna_path = os.path.join(data_path, rna_file)\n",
    "abs_path = os.path.join(data_path, abs_file)\n",
    "cdr_path = os.path.join(data_path, cdr_file)\n",
    "\n",
    "# Load RNA and transpose\n",
    "rna_df = pandas.read_csv(rna_path, sep='\\t')\n",
    "rna_df = rna_df.set_index('gene_id').transpose()\n",
    "print(\"RNA shape:\", rna_df.shape)\n",
    "display(rna_df.head())\n",
    "\n",
    "# Load ABSOLUTE CNV data\n",
    "abs_df = pandas.read_csv(abs_path, sep='\\t')\n",
    "print(\"ABSOLUTE shape:\", abs_df.shape)\n",
    "display(abs_df.head())\n",
    "\n",
    "# Load Clinical Data Resource (CDR)\n",
    "cdr_df = pandas.read_excel(cdr_path)\n",
    "print(\"CDR shape:\", cdr_df.shape)\n",
    "display(cdr_df.head())"
   ]
  },
  {
   "cell_type": "code",
   "execution_count": null,
   "metadata": {},
   "outputs": [],
   "source": [
    "import modin.pandas as pd                  # Optimized distributed version of Pandas"
   ]
  },
  {
   "cell_type": "markdown",
   "metadata": {},
   "source": [
    "Allow pandas to show more columns:"
   ]
  },
  {
   "cell_type": "code",
   "execution_count": null,
   "metadata": {},
   "outputs": [],
   "source": [
    "pd.set_option('display.max_columns', 1000)\n",
    "pd.set_option('display.max_rows', 1000)"
   ]
  },
  {
   "cell_type": "markdown",
   "metadata": {},
   "source": [
    "Set the random seed for reproducibility:"
   ]
  },
  {
   "cell_type": "code",
   "execution_count": null,
   "metadata": {},
   "outputs": [],
   "source": [
    "np.random.seed(42)"
   ]
  },
  {
   "cell_type": "markdown",
   "metadata": {},
   "source": [
    "## RNA"
   ]
  },
  {
   "cell_type": "markdown",
   "metadata": {},
   "source": [
    "### Normalizing data"
   ]
  },
  {
   "cell_type": "code",
   "execution_count": null,
   "metadata": {},
   "outputs": [],
   "source": [
    "rna_df.describe().transpose()"
   ]
  },
  {
   "cell_type": "markdown",
   "metadata": {},
   "source": [
    "The data is not (well) normalized yet. All columns should have 0 mean and 1 standard deviation."
   ]
  },
  {
   "cell_type": "markdown",
   "metadata": {},
   "source": [
    "Save the dataframe before normalizing:"
   ]
  },
  {
   "cell_type": "code",
   "execution_count": null,
   "metadata": {},
   "outputs": [],
   "source": [
    "import os\n",
    "\n",
    "# Ensure the output directory exists\n",
    "output_dir = os.path.join(data_path, 'cleaned/unnormalized')\n",
    "os.makedirs(output_dir, exist_ok=True)\n",
    "\n",
    "# Now save the file\n",
    "rna_df.to_csv(os.path.join(output_dir, 'rna.csv'))"
   ]
  },
  {
   "cell_type": "markdown",
   "metadata": {},
   "source": [
    "Normalize the data into a new dataframe:"
   ]
  },
  {
   "cell_type": "code",
   "execution_count": null,
   "metadata": {},
   "outputs": [],
   "source": [
    "from sklearn.preprocessing import StandardScaler\n",
    "\n",
    "# Initialize scaler\n",
    "scaler = StandardScaler()\n",
    "\n",
    "# Fit and transform the RNA data\n",
    "rna_df_norm = pandas.DataFrame(\n",
    "    scaler.fit_transform(rna_df),\n",
    "    index=rna_df.index,\n",
    "    columns=rna_df.columns\n",
    ")\n",
    "\n",
    "rna_df_norm.head()\n"
   ]
  },
  {
   "cell_type": "markdown",
   "metadata": {},
   "source": [
    "Confirm that everything is ok through the `describe` method:"
   ]
  },
  {
   "cell_type": "code",
   "execution_count": null,
   "metadata": {},
   "outputs": [],
   "source": [
    "rna_df_norm.describe().transpose()"
   ]
  },
  {
   "cell_type": "markdown",
   "metadata": {},
   "source": [
    "Save the normalized dataframe:"
   ]
  },
  {
   "cell_type": "code",
   "execution_count": null,
   "metadata": {},
   "outputs": [],
   "source": [
    "normalized_dir = os.path.join(data_path, 'cleaned/normalized')\n",
    "os.makedirs(normalized_dir, exist_ok=True)\n",
    "\n",
    "# Save the normalized RNA data\n",
    "rna_df_norm.to_csv(os.path.join(normalized_dir, 'rna.csv'))\n"
   ]
  },
  {
   "cell_type": "code",
   "execution_count": null,
   "metadata": {},
   "outputs": [],
   "source": [
    "rna_df_norm.head()"
   ]
  },
  {
   "cell_type": "markdown",
   "metadata": {
    "toc-hr-collapsed": true
   },
   "source": [
    "## ABSOLUTE-annotated seg data\n",
    "\n",
    "This dataframe contains copy-number and copy-ratio related data.\n",
    "\n",
    "Copy number alterations/aberrations (CNAs) are changes in copy number that have arisen in somatic tissue (for example, just in a tumor), copy number variations (CNVs) originated from changes in copy number in germline cells (and are thus in all cells of the organism).\n",
    "\n",
    "The rows correspond to contiguous chunks along the chromosome with the same DNA copy-number. \"Chromosome\" is the chromosome, can be 1-22, X or Y (see human genome). Start is the physical start location for the segment along said linear chromosome, end is the end coordinate. Num_probes is the number of SNP-array probes falling within the segment (these were used to call copy numbers). Reference: https://www.biostars.org/p/244374/"
   ]
  },
  {
   "cell_type": "markdown",
   "metadata": {},
   "source": [
    "### Loading the data"
   ]
  },
  {
   "cell_type": "code",
   "execution_count": null,
   "metadata": {},
   "outputs": [],
   "source": [
    "abs_anttd_seg_df = abs_df"
   ]
  },
  {
   "cell_type": "code",
   "execution_count": null,
   "metadata": {},
   "outputs": [],
   "source": [
    "len(abs_anttd_seg_df)"
   ]
  },
  {
   "cell_type": "markdown",
   "metadata": {},
   "source": [
    "### Converting categorical features to numeric"
   ]
  },
  {
   "cell_type": "code",
   "execution_count": null,
   "metadata": {},
   "outputs": [],
   "source": [
    "abs_anttd_seg_df.solution.value_counts()"
   ]
  },
  {
   "cell_type": "code",
   "execution_count": null,
   "metadata": {},
   "outputs": [],
   "source": [
    "abs_anttd_seg_df.solution = abs_anttd_seg_df.solution.apply(lambda x: 1 if x == 'new' else 0)\n",
    "abs_anttd_seg_df = abs_anttd_seg_df.rename(columns={'solution': 'new_solution'})\n",
    "abs_anttd_seg_df.new_solution.value_counts()"
   ]
  },
  {
   "cell_type": "markdown",
   "metadata": {},
   "source": [
    "### Removing unneeded features"
   ]
  },
  {
   "cell_type": "markdown",
   "metadata": {},
   "source": [
    "Columns `Start`, `End`, `Num_Probes` and `Length` don't seem to be relevant as we don't need to know so much detail of each chromosome nor experiment specific information."
   ]
  },
  {
   "cell_type": "code",
   "execution_count": null,
   "metadata": {},
   "outputs": [],
   "source": [
    "abs_anttd_seg_df = abs_anttd_seg_df.drop(columns=['Start', 'End', 'Num_Probes', 'Length'], axis=1)\n",
    "abs_anttd_seg_df.head()"
   ]
  },
  {
   "cell_type": "markdown",
   "metadata": {},
   "source": [
    "### Normalizing data"
   ]
  },
  {
   "cell_type": "code",
   "execution_count": null,
   "metadata": {},
   "outputs": [],
   "source": [
    "abs_anttd_seg_df.describe().transpose()"
   ]
  },
  {
   "cell_type": "markdown",
   "metadata": {},
   "source": [
    "The data is not (well) normalized yet. All columns should have 0 mean and 1 standard deviation."
   ]
  },
  {
   "cell_type": "markdown",
   "metadata": {},
   "source": [
    "Save the dataframe before normalizing:"
   ]
  },
  {
   "cell_type": "code",
   "execution_count": null,
   "metadata": {},
   "outputs": [],
   "source": [
    "abs_anttd_seg_df.to_csv(f'{data_path}cleaned/unnormalized/copy_number_ratio.csv')"
   ]
  },
  {
   "cell_type": "markdown",
   "metadata": {},
   "source": [
    "Normalize the data into a new dataframe:"
   ]
  },
  {
   "cell_type": "code",
   "execution_count": null,
   "metadata": {},
   "outputs": [],
   "source": [
    "# Exclude the categorical column(s)\n",
    "categorical_cols = ['Chromosome']\n",
    "numeric_cols = abs_anttd_seg_df.select_dtypes(include='number').columns.difference(categorical_cols)\n",
    "\n",
    "# Initialize the scaler\n",
    "scaler = StandardScaler()\n",
    "\n",
    "# Fit and transform numeric columns\n",
    "abs_anttd_seg_df[numeric_cols] = scaler.fit_transform(abs_anttd_seg_df[numeric_cols])\n",
    "\n",
    "# The categorical column stays unchanged\n",
    "abs_anttd_seg_df.head()\n"
   ]
  },
  {
   "cell_type": "markdown",
   "metadata": {},
   "source": [
    "Confirm that everything is ok through the `describe` method:"
   ]
  },
  {
   "cell_type": "code",
   "execution_count": null,
   "metadata": {},
   "outputs": [],
   "source": [
    "abs_anttd_seg_df.describe().transpose()"
   ]
  },
  {
   "cell_type": "markdown",
   "metadata": {
    "toc-hr-collapsed": true
   },
   "source": [
    "### Aggregating sample data"
   ]
  },
  {
   "cell_type": "markdown",
   "metadata": {},
   "source": [
    "#### Missing value imputation\n",
    "\n",
    "We can't join rows correctly if there are missing values"
   ]
  },
  {
   "cell_type": "code",
   "execution_count": null,
   "metadata": {},
   "outputs": [],
   "source": [
    "nan_idx = abs_anttd_seg_df[abs_anttd_seg_df.Ccf_ci95_high_a2.isnull()].index\n",
    "nan_idx"
   ]
  },
  {
   "cell_type": "code",
   "execution_count": null,
   "metadata": {},
   "outputs": [],
   "source": [
    "abs_anttd_seg_df.iloc[nan_idx].head()"
   ]
  },
  {
   "cell_type": "code",
   "execution_count": null,
   "metadata": {},
   "outputs": [],
   "source": [
    "abs_anttd_seg_df.head(125).tail(25)"
   ]
  },
  {
   "cell_type": "code",
   "execution_count": null,
   "metadata": {},
   "outputs": [],
   "source": [
    "# Set index if 'Sample' should be preserved during interpolation\n",
    "abs_anttd_seg_df = abs_anttd_seg_df.set_index('Sample')\n",
    "\n",
    "# Interpolate numeric values (column-wise)\n",
    "abs_anttd_seg_df = abs_anttd_seg_df.interpolate(method='linear', axis=0)\n",
    "\n",
    "# Fill any remaining NaNs with forward fill, then backward fill\n",
    "abs_anttd_seg_df = abs_anttd_seg_df.fillna(method='ffill', axis=0).fillna(method='bfill', axis=0)\n",
    "\n",
    "# Reset index if needed\n",
    "abs_anttd_seg_df = abs_anttd_seg_df.reset_index()\n",
    "\n",
    "# Display the head\n",
    "abs_anttd_seg_df.head()\n"
   ]
  },
  {
   "cell_type": "code",
   "execution_count": null,
   "metadata": {},
   "outputs": [],
   "source": [
    "# Percentage of missing values per column\n",
    "missing_percent = abs_anttd_seg_df.isnull().mean().sort_values(ascending=False) * 100\n",
    "\n",
    "# Display as a DataFrame\n",
    "missing_percent_df = missing_percent[missing_percent > 0].to_frame(name='missing_percentage')\n",
    "missing_percent_df\n"
   ]
  },
  {
   "cell_type": "code",
   "execution_count": null,
   "metadata": {},
   "outputs": [],
   "source": [
    "abs_anttd_seg_df.head(125).tail(25)"
   ]
  },
  {
   "cell_type": "markdown",
   "metadata": {},
   "source": [
    "#### Average groupby aggregation\n",
    "\n",
    "Join all the data of each sample's chromosome through an average groupby aggregation:"
   ]
  },
  {
   "cell_type": "code",
   "execution_count": null,
   "metadata": {},
   "outputs": [],
   "source": [
    "abs_anttd_seg_df = abs_anttd_seg_df.groupby(['Sample', 'Chromosome']).mean()\n",
    "abs_anttd_seg_df.head(25)"
   ]
  },
  {
   "cell_type": "markdown",
   "metadata": {},
   "source": [
    "#### Dividing chromosome data into different columns\n",
    "\n",
    "Separate each chromosome's information into their own features.\n",
    "\n",
    "OR\n",
    "\n",
    "Create lists for each feature, containing each chromosome's value, and then apply an embedding bag on it."
   ]
  },
  {
   "cell_type": "code",
   "execution_count": null,
   "metadata": {},
   "outputs": [],
   "source": [
    "abs_anttd_seg_df[abs_anttd_seg_df.index.get_level_values('Chromosome') == 1].head()"
   ]
  },
  {
   "cell_type": "code",
   "execution_count": null,
   "metadata": {},
   "outputs": [],
   "source": [
    "# List that will contain multiple dataframes, one for each chromosome\n",
    "df_list = []\n",
    "# Go through each chromosome and create its own dataframe, with properly labeled columns\n",
    "for chrom in range(1, 23):\n",
    "    # Filter for the current chromosome's dataframe\n",
    "    tmp_df = abs_anttd_seg_df[abs_anttd_seg_df.index.get_level_values('Chromosome') == chrom]\n",
    "    # Change the column names to identify the chromosome\n",
    "    tmp_df.columns = [f'{col}_chromosome_{chrom}' for col in tmp_df.columns]\n",
    "    # Remove now redundant `Chromosome` column\n",
    "    tmp_df = tmp_df.reset_index().drop(columns='Chromosome', axis=1)\n",
    "    # Add to the dataframes list\n",
    "    df_list.append(tmp_df)"
   ]
  },
  {
   "cell_type": "code",
   "execution_count": null,
   "metadata": {
    "scrolled": true
   },
   "outputs": [],
   "source": [
    "df_list[3]"
   ]
  },
  {
   "cell_type": "code",
   "execution_count": null,
   "metadata": {
    "scrolled": true
   },
   "outputs": [],
   "source": [
    "abs_anttd_seg_df = reduce(lambda x, y: pandas.merge(x, y, on='Sample'), df_list)\n",
    "abs_anttd_seg_df.head()"
   ]
  },
  {
   "cell_type": "code",
   "execution_count": null,
   "metadata": {},
   "outputs": [],
   "source": [
    "abs_anttd_seg_df.Sample.nunique()"
   ]
  },
  {
   "cell_type": "code",
   "execution_count": null,
   "metadata": {},
   "outputs": [],
   "source": [
    "len(abs_anttd_seg_df)"
   ]
  },
  {
   "cell_type": "markdown",
   "metadata": {},
   "source": [
    "Remove duplicate columns (redundant features that are independent of the chromosome):"
   ]
  },
  {
   "cell_type": "code",
   "execution_count": null,
   "metadata": {},
   "outputs": [],
   "source": [
    "unique_features = set([col.split('_chromosome')[0] for col in abs_anttd_seg_df.columns])\n",
    "unique_features"
   ]
  },
  {
   "cell_type": "code",
   "execution_count": null,
   "metadata": {},
   "outputs": [],
   "source": [
    "[col for col in abs_anttd_seg_df.columns if 'Cancer_cell_frac_a1' in col]"
   ]
  },
  {
   "cell_type": "code",
   "execution_count": null,
   "metadata": {},
   "outputs": [],
   "source": [
    "# Save the feature names that are redundant (i.e. no difference between chromosomes)\n",
    "redundant_features = []\n",
    "\n",
    "for feature in unique_features:\n",
    "    # Flag that indicates if all of the feature's columns are equal\n",
    "    all_cols_equal = True\n",
    "    # List of column names that are part of the same unique feature\n",
    "    chrom_cols = [col for col in abs_anttd_seg_df.columns if feature in col]\n",
    "    \n",
    "    for i in range(len(chrom_cols) - 1):\n",
    "        # Check if the current pair of columns are completely equal\n",
    "        if not (abs_anttd_seg_df[chrom_cols[i]] == abs_anttd_seg_df[chrom_cols[i+1]]).all():\n",
    "            all_cols_equal = False\n",
    "            break\n",
    "\n",
    "    if all_cols_equal:\n",
    "        redundant_features.append(feature)\n",
    "\n",
    "redundant_features\n"
   ]
  },
  {
   "cell_type": "code",
   "execution_count": null,
   "metadata": {},
   "outputs": [],
   "source": [
    "column_duplicates = [col for col in abs_anttd_seg_df.columns if 'new_solution' in col]\n",
    "column_duplicates.remove('new_solution_chromosome_1')\n",
    "column_duplicates"
   ]
  },
  {
   "cell_type": "code",
   "execution_count": null,
   "metadata": {},
   "outputs": [],
   "source": [
    "abs_anttd_seg_df = abs_anttd_seg_df.drop(columns=column_duplicates, axis=1)\n",
    "abs_anttd_seg_df = abs_anttd_seg_df.rename(columns={'new_solution_chromosome_1': 'new_solution'})\n",
    "abs_anttd_seg_df.head()"
   ]
  },
  {
   "cell_type": "code",
   "execution_count": null,
   "metadata": {},
   "outputs": [],
   "source": [
    "[col for col in abs_anttd_seg_df.columns if 'new_solution' in col]"
   ]
  },
  {
   "cell_type": "markdown",
   "metadata": {},
   "source": [
    "### Setting the index"
   ]
  },
  {
   "cell_type": "markdown",
   "metadata": {},
   "source": [
    "Set `sample_id` column to be the index:"
   ]
  },
  {
   "cell_type": "code",
   "execution_count": null,
   "metadata": {},
   "outputs": [],
   "source": [
    "abs_anttd_seg_df = abs_anttd_seg_df.set_index('Sample')\n",
    "abs_anttd_seg_df.head()"
   ]
  },
  {
   "cell_type": "markdown",
   "metadata": {},
   "source": [
    "Fix the index name:"
   ]
  },
  {
   "cell_type": "code",
   "execution_count": null,
   "metadata": {},
   "outputs": [],
   "source": [
    "abs_anttd_seg_df.index.name = 'sample_id'\n",
    "abs_anttd_seg_df.head()\n"
   ]
  },
  {
   "cell_type": "markdown",
   "metadata": {},
   "source": [
    "Save the normalized dataframe:"
   ]
  },
  {
   "cell_type": "code",
   "execution_count": null,
   "metadata": {},
   "outputs": [],
   "source": [
    "abs_anttd_seg_df.to_csv(f'{data_path}cleaned/normalized/copy_number_ratio.csv')"
   ]
  },
  {
   "cell_type": "markdown",
   "metadata": {
    "toc-hr-collapsed": true
   },
   "source": [
    "## Clinical outcome (TCGA-CDR) data\n",
    "\n",
    "Description"
   ]
  },
  {
   "cell_type": "markdown",
   "metadata": {},
   "source": [
    "### Loading the data"
   ]
  },
  {
   "cell_type": "code",
   "execution_count": null,
   "metadata": {},
   "outputs": [],
   "source": [
    "cdr_df.dtypes"
   ]
  },
  {
   "cell_type": "markdown",
   "metadata": {},
   "source": [
    "### Setting the index"
   ]
  },
  {
   "cell_type": "markdown",
   "metadata": {},
   "source": [
    "Set `sample_id` column to be the index:"
   ]
  },
  {
   "cell_type": "code",
   "execution_count": null,
   "metadata": {},
   "outputs": [],
   "source": [
    "cdr_df = cdr_df.set_index('bcr_patient_barcode')\n",
    "cdr_df.head()"
   ]
  },
  {
   "cell_type": "markdown",
   "metadata": {},
   "source": [
    "Fix the index name:"
   ]
  },
  {
   "cell_type": "code",
   "execution_count": null,
   "metadata": {},
   "outputs": [],
   "source": [
    "cdr_df.index.name = 'sample_id'\n",
    "cdr_df.head()\n"
   ]
  },
  {
   "cell_type": "markdown",
   "metadata": {},
   "source": [
    "### Checking for missing values"
   ]
  },
  {
   "cell_type": "markdown",
   "metadata": {},
   "source": [
    "Considerable percentage of missing values on `ajcc_pathologic_tumor_stage` (\\~37%) and `clinical_stage` (\\~76%).\n",
    "Considering the real percentages of missing values, which are higher than what we got before standardizing the missing values representation, the main features to use from this table should be `gender`, `vital_status`, `age_at_initial_pathologic_diagnosis`, `tumor_status`, `race` and `ajcc_pathologic_tumor_stage`."
   ]
  },
  {
   "cell_type": "markdown",
   "metadata": {},
   "source": [
    "### Removing unneeded features"
   ]
  },
  {
   "cell_type": "markdown",
   "metadata": {},
   "source": [
    "Remove columns that have more than 40% missing values:"
   ]
  },
  {
   "cell_type": "code",
   "execution_count": null,
   "metadata": {},
   "outputs": [],
   "source": [
    "# Set the threshold percentage\n",
    "nan_percent_thrsh = 40  # percent\n",
    "threshold = nan_percent_thrsh / 100.0\n",
    "\n",
    "# Drop columns with more than threshold% NaNs\n",
    "cdr_df = cdr_df.loc[:, cdr_df.isnull().mean() <= threshold]\n"
   ]
  },
  {
   "cell_type": "code",
   "execution_count": null,
   "metadata": {},
   "outputs": [],
   "source": [
    "# Show count and percentage of missing values per column\n",
    "missing_values = cdr_df.isnull().sum()\n",
    "missing_percent = (missing_values / len(cdr_df)) * 100\n",
    "\n",
    "missing_df = pandas.DataFrame({\n",
    "    'Missing Count': missing_values,\n",
    "    'Missing Percent': missing_percent\n",
    "})\n",
    "\n",
    "# Display only columns with missing values\n",
    "missing_df = missing_df[missing_df['Missing Count'] > 0].sort_values(by='Missing Percent', ascending=False)\n",
    "print(missing_df)\n"
   ]
  },
  {
   "cell_type": "markdown",
   "metadata": {},
   "source": [
    "Features such as overall survival (`OS`), progression-free interval (`PFI`), disease-specific survival (`DSS`), `vital_status`, `tumor_status`, `initial_pathologic_dx_year`, `birth_days_to` and `last_contact_days_to`,  might not be relevant for this use case. Also, `histological_type` is redundant with `type`, which is our intended label, while having more missing values, so we must remove it."
   ]
  },
  {
   "cell_type": "code",
   "execution_count": null,
   "metadata": {},
   "outputs": [],
   "source": [
    "cdr_df = cdr_df.drop(columns=['Unnamed: 0', 'OS', 'PFI', 'DSS',\n",
    "                              'OS.time', 'DSS.time', 'PFI.time',\n",
    "                              'vital_status', 'tumor_status', \n",
    "                              'initial_pathologic_dx_year', 'birth_days_to',\n",
    "                              'last_contact_days_to', 'histological_type'], axis=1)\n",
    "cdr_df.head()"
   ]
  },
  {
   "cell_type": "markdown",
   "metadata": {},
   "source": [
    "Change label name to a more intuitive one:"
   ]
  },
  {
   "cell_type": "code",
   "execution_count": null,
   "metadata": {},
   "outputs": [],
   "source": [
    "cdr_df = cdr_df.rename(columns={'type': 'tumor_type_label'})\n",
    "cdr_df.head()"
   ]
  },
  {
   "cell_type": "markdown",
   "metadata": {},
   "source": [
    "### Converting categorical features to numeric"
   ]
  },
  {
   "cell_type": "code",
   "execution_count": null,
   "metadata": {},
   "outputs": [],
   "source": [
    "cdr_df.gender.value_counts()"
   ]
  },
  {
   "cell_type": "code",
   "execution_count": null,
   "metadata": {},
   "outputs": [],
   "source": [
    "cdr_df.race.value_counts()"
   ]
  },
  {
   "cell_type": "code",
   "execution_count": null,
   "metadata": {},
   "outputs": [],
   "source": [
    "cdr_df.ajcc_pathologic_tumor_stage.value_counts()"
   ]
  },
  {
   "cell_type": "markdown",
   "metadata": {},
   "source": [
    "Encode gender:"
   ]
  },
  {
   "cell_type": "code",
   "execution_count": null,
   "metadata": {},
   "outputs": [],
   "source": [
    "cdr_df.gender = cdr_df.gender.apply(lambda x: 1 if x.lower() == 'male' else 0)\n",
    "cdr_df.gender.value_counts()"
   ]
  },
  {
   "cell_type": "markdown",
   "metadata": {},
   "source": [
    "Encode race and tumor stage:"
   ]
  },
  {
   "cell_type": "code",
   "execution_count": null,
   "metadata": {},
   "outputs": [],
   "source": [
    "features_to_encode = ['race', 'ajcc_pathologic_tumor_stage']"
   ]
  },
  {
   "cell_type": "code",
   "execution_count": null,
   "metadata": {},
   "outputs": [],
   "source": [
    "# Dictionary that will contain the mapping between the categories and their encodings\n",
    "encod_dict = dict([('gender', dict([('male' , 1), ('female', 0)]))])"
   ]
  },
  {
   "cell_type": "code",
   "execution_count": null,
   "metadata": {},
   "outputs": [],
   "source": [
    "encod_dict = {}\n",
    "\n",
    "for feature in features_to_encode:\n",
    "    # Factorize returns encoded values and unique categories\n",
    "    codes, uniques = pandas.factorize(cdr_df[feature])\n",
    "    cdr_df[feature] = codes\n",
    "    encod_dict[feature] = dict(enumerate(uniques))\n"
   ]
  },
  {
   "cell_type": "code",
   "execution_count": null,
   "metadata": {},
   "outputs": [],
   "source": [
    "cdr_df.head()"
   ]
  },
  {
   "cell_type": "code",
   "execution_count": null,
   "metadata": {},
   "outputs": [],
   "source": [
    "encod_dict"
   ]
  },
  {
   "cell_type": "markdown",
   "metadata": {},
   "source": [
    "### Normalizing data\n",
    "\n",
    "In this table, we only need to normalize the age."
   ]
  },
  {
   "cell_type": "code",
   "execution_count": null,
   "metadata": {},
   "outputs": [],
   "source": [
    "cdr_df.describe().transpose()"
   ]
  },
  {
   "cell_type": "markdown",
   "metadata": {},
   "source": [
    "Save the dataframe before normalizing:"
   ]
  },
  {
   "cell_type": "code",
   "execution_count": null,
   "metadata": {},
   "outputs": [],
   "source": [
    "# Ensure the directory exists\n",
    "unnorm_dir = os.path.join(data_path, 'cleaned/unnormalized')\n",
    "os.makedirs(unnorm_dir, exist_ok=True)\n",
    "\n",
    "# Now save the file\n",
    "cdr_df.to_csv(os.path.join(unnorm_dir, 'clinical_outcome.csv'), index=False)\n"
   ]
  },
  {
   "cell_type": "markdown",
   "metadata": {},
   "source": [
    "Normalize the data into a new dataframe:"
   ]
  },
  {
   "cell_type": "code",
   "execution_count": null,
   "metadata": {},
   "outputs": [],
   "source": [
    "scaler = StandardScaler()\n",
    "\n",
    "# Copy original dataframe\n",
    "cdr_df_norm = cdr_df.copy()\n",
    "\n",
    "# Normalize the specified column\n",
    "column = 'age_at_initial_pathologic_diagnosis'\n",
    "cdr_df_norm[column] = scaler.fit_transform(cdr_df[[column]])\n",
    "\n",
    "cdr_df_norm.head()\n"
   ]
  },
  {
   "cell_type": "markdown",
   "metadata": {},
   "source": [
    "Confirm that everything is ok through the `describe` method:"
   ]
  },
  {
   "cell_type": "code",
   "execution_count": null,
   "metadata": {},
   "outputs": [],
   "source": [
    "cdr_df_norm.describe().transpose()"
   ]
  },
  {
   "cell_type": "markdown",
   "metadata": {},
   "source": [
    "Save the normalized dataframe:"
   ]
  },
  {
   "cell_type": "code",
   "execution_count": null,
   "metadata": {},
   "outputs": [],
   "source": [
    "cdr_df_norm.to_csv(f'{data_path}cleaned/normalized/clinical_outcome.csv')"
   ]
  },
  {
   "cell_type": "markdown",
   "metadata": {},
   "source": [
    "## Saving enumeration encoding mapping\n",
    "\n",
    "Save the dictionary that maps from the original categories/strings to the new numerical encondings."
   ]
  },
  {
   "cell_type": "code",
   "execution_count": null,
   "metadata": {},
   "outputs": [],
   "source": [
    "stream = open(f'{data_path}cleaned/encod_dict.yaml', 'w')\n",
    "yaml.dump(encod_dict, stream, default_flow_style=False)"
   ]
  }
 ],
 "metadata": {
  "jupytext": {
   "cell_metadata_json": true,
   "encoding": "# -*- coding: utf-8 -*-",
   "formats": "ipynb,py:light"
  },
  "kernelspec": {
   "display_name": "tcga-env",
   "language": "python",
   "name": "python3"
  },
  "language_info": {
   "codemirror_mode": {
    "name": "ipython",
    "version": 3
   },
   "file_extension": ".py",
   "mimetype": "text/x-python",
   "name": "python",
   "nbconvert_exporter": "python",
   "pygments_lexer": "ipython3",
   "version": "3.10.2"
  }
 },
 "nbformat": 4,
 "nbformat_minor": 2
}
