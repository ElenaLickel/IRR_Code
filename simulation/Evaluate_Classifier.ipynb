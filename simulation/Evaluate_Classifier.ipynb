{
 "cells": [
  {
   "cell_type": "code",
   "execution_count": 1,
   "metadata": {},
   "outputs": [],
   "source": [
    "import import_ipynb\n",
    "import numpy as np\n",
    "import matplotlib.pyplot as plt\n",
    "from sklearn.discriminant_analysis import LinearDiscriminantAnalysis, QuadraticDiscriminantAnalysis\n",
    "from sklearn.metrics import accuracy_score, log_loss, brier_score_loss\n",
    "from scipy.stats import multivariate_normal\n",
    "from scipy.integrate import nquad\n",
    "import pandas as pd\n",
    "np.random.seed(42)\n",
    "\n",
    "from simulation_utils import (\n",
    "    setup_simulation,\n",
    "    generate_data,\n",
    "    compute_bayes_predictions,\n",
    "    compute_lda_predictions,\n",
    "    compute_qda_predictions\n",
    ")\n",
    "import numpy as np\n",
    "import pandas as pd\n",
    "from sklearn.discriminant_analysis import LinearDiscriminantAnalysis, QuadraticDiscriminantAnalysis\n",
    "from sklearn.metrics import accuracy_score\n",
    "from simulation_utils import setup_simulation, generate_data\n"
   ]
  },
  {
   "cell_type": "markdown",
   "metadata": {},
   "source": [
    "Define Parameters and Simulate the data"
   ]
  },
  {
   "cell_type": "code",
   "execution_count": 2,
   "metadata": {},
   "outputs": [],
   "source": [
    "k = 3  \n",
    "n_per_class = 100\n",
    "etas = np.linspace(0, 1, 5)\n",
    "n_values = [100, 200, 500, 1000, 5000]\n",
    "results = []"
   ]
  },
  {
   "cell_type": "markdown",
   "metadata": {},
   "source": [
    "Scoring functions"
   ]
  },
  {
   "cell_type": "code",
   "execution_count": 3,
   "metadata": {},
   "outputs": [],
   "source": [
    "def brier_score(p, y_true):\n",
    "    y_onehot = np.zeros_like(p)\n",
    "    y_onehot[np.arange(len(y_true)), y_true] = 1\n",
    "    return np.mean(np.sum((y_onehot - p)**2, axis=1))\n",
    "\n",
    "def spherical_score(p, y_true):\n",
    "    norms = np.linalg.norm(p, axis=1)\n",
    "    return np.mean([p[i, y_true[i]] / norms[i] for i in range(len(y_true))])\n",
    "\n",
    "def log_score(p, y_true):\n",
    "    return -np.mean([np.log(p[i, y_true[i]] + 1e-15) for i in range(len(y_true))])\n"
   ]
  },
  {
   "cell_type": "markdown",
   "metadata": {},
   "source": [
    "Evaluation loop"
   ]
  },
  {
   "cell_type": "code",
   "execution_count": 4,
   "metadata": {},
   "outputs": [],
   "source": [
    "for eta in etas:\n",
    "    for n_train in n_values:\n",
    "        X_train, y_train, means, shared_cov, class_covs = setup_simulation(K=k, eta=eta, n_train=n_train)\n",
    "\n",
    "        X_test, y_test = generate_data( n_per_class=n_per_class, eta=eta, K=k, means=means, shared_cov=shared_cov, class_covs=class_covs)\n",
    "\n",
    "        # --- Fit models ---\n",
    "        lda = LinearDiscriminantAnalysis().fit(X_train, y_train)\n",
    "        qda = QuadraticDiscriminantAnalysis().fit(X_train, y_train)\n",
    "\n",
    "        # --- Predict ---\n",
    "        y_pred_lda = lda.predict(X_test)\n",
    "        y_pred_qda = qda.predict(X_test)\n",
    "        p_lda = lda.predict_proba(X_test)\n",
    "        p_qda = qda.predict_proba(X_test)\n",
    "\n",
    "        # --- Evaluate ---\n",
    "        results.append((\n",
    "            eta, n_train,\n",
    "            accuracy_score(y_test, y_pred_lda),\n",
    "            accuracy_score(y_test, y_pred_qda),\n",
    "            brier_score(p_lda, y_test),\n",
    "            brier_score(p_qda, y_test),\n",
    "            log_score(p_lda, y_test),\n",
    "            log_score(p_qda, y_test),\n",
    "            spherical_score(p_lda, y_test),\n",
    "            spherical_score(p_qda, y_test)\n",
    "        ))"
   ]
  },
  {
   "cell_type": "markdown",
   "metadata": {},
   "source": [
    "Results as DataFrame"
   ]
  },
  {
   "cell_type": "code",
   "execution_count": 5,
   "metadata": {},
   "outputs": [
    {
     "name": "stdout",
     "output_type": "stream",
     "text": [
      "     eta  n_train   acc_lda   acc_qda  brier_lda  brier_qda   log_lda  \\\n",
      "0   0.00      100  0.746667  0.750000   0.346556   0.342884  0.617606   \n",
      "1   0.00      200  0.760000  0.763333   0.312393   0.308919  0.538777   \n",
      "2   0.00      500  0.773333  0.770000   0.306569   0.312645  0.521100   \n",
      "3   0.00     1000  0.800000  0.800000   0.301439   0.301685  0.522597   \n",
      "4   0.00     5000  0.736667  0.736667   0.339394   0.339579  0.568442   \n",
      "5   0.25      100  0.736667  0.733333   0.361053   0.360791  0.612321   \n",
      "6   0.25      200  0.746667  0.743333   0.347299   0.343333  0.570481   \n",
      "7   0.25      500  0.763333  0.760000   0.326510   0.332523  0.571251   \n",
      "8   0.25     1000  0.760000  0.750000   0.325555   0.323338  0.547088   \n",
      "9   0.25     5000  0.756667  0.760000   0.323970   0.325655  0.533626   \n",
      "10  0.50      100  0.730000  0.726667   0.360088   0.357737  0.610963   \n",
      "11  0.50      200  0.746667  0.750000   0.351088   0.343901  0.578315   \n",
      "12  0.50      500  0.753333  0.746667   0.328416   0.334807  0.575972   \n",
      "13  0.50     1000  0.760000  0.746667   0.331719   0.323863  0.556760   \n",
      "14  0.50     5000  0.750000  0.756667   0.324337   0.325843  0.538922   \n",
      "15  0.75      100  0.730000  0.723333   0.357869   0.354799  0.608435   \n",
      "16  0.75      200  0.733333  0.750000   0.354378   0.343085  0.586031   \n",
      "17  0.75      500  0.766667  0.746667   0.329884   0.336232  0.579539   \n",
      "18  0.75     1000  0.763333  0.753333   0.337228   0.322978  0.565597   \n",
      "19  0.75     5000  0.750000  0.756667   0.323843   0.323464  0.543079   \n",
      "20  1.00      100  0.740000  0.720000   0.354357   0.351444  0.604701   \n",
      "21  1.00      200  0.730000  0.750000   0.357323   0.340720  0.593647   \n",
      "22  1.00      500  0.763333  0.746667   0.330936   0.336260  0.581823   \n",
      "23  1.00     1000  0.760000  0.756667   0.342190   0.319946  0.573638   \n",
      "24  1.00     5000  0.760000  0.760000   0.322478   0.317882  0.546062   \n",
      "\n",
      "     log_qda  spherical_lda  spherical_qda  \n",
      "0   0.622446       0.802797       0.804868  \n",
      "1   0.530962       0.819798       0.821913  \n",
      "2   0.527761       0.824537       0.820858  \n",
      "3   0.521772       0.825681       0.825412  \n",
      "4   0.568528       0.801411       0.801283  \n",
      "5   0.617784       0.791563       0.791197  \n",
      "6   0.566088       0.798918       0.800404  \n",
      "7   0.584912       0.812289       0.807943  \n",
      "8   0.548373       0.811314       0.812648  \n",
      "9   0.534596       0.811992       0.811032  \n",
      "10  0.615505       0.791947       0.792864  \n",
      "11  0.566888       0.796643       0.799976  \n",
      "12  0.592768       0.810762       0.805970  \n",
      "13  0.548538       0.807975       0.812939  \n",
      "14  0.535381       0.811746       0.810829  \n",
      "15  0.609177       0.793300       0.794390  \n",
      "16  0.563290       0.794861       0.800662  \n",
      "17  0.595910       0.809598       0.804907  \n",
      "18  0.544836       0.805245       0.814009  \n",
      "19  0.530387       0.812352       0.812304  \n",
      "20  0.598003       0.795651       0.796247  \n",
      "21  0.555051       0.793654       0.802376  \n",
      "22  0.593595       0.808814       0.805036  \n",
      "23  0.536973       0.803025       0.816428  \n",
      "24  0.518836       0.813810       0.815747  \n"
     ]
    }
   ],
   "source": [
    "columns = [\n",
    "    'eta', 'n_train',\n",
    "    'acc_lda', 'acc_qda',\n",
    "    'brier_lda', 'brier_qda',\n",
    "    'log_lda', 'log_qda',\n",
    "    'spherical_lda', 'spherical_qda'\n",
    "]\n",
    "df_results = pd.DataFrame(results, columns=columns)\n",
    "\n",
    "\n",
    "print(df_results)"
   ]
  },
  {
   "cell_type": "markdown",
   "metadata": {},
   "source": [
    "for specific simulations"
   ]
  },
  {
   "cell_type": "code",
   "execution_count": 6,
   "metadata": {},
   "outputs": [
    {
     "name": "stdout",
     "output_type": "stream",
     "text": [
      "Accuracy - LDA: 0.7733333333333333\n",
      "Accuracy - QDA: 0.7466666666666667\n",
      "Brier - LDA: 0.35652327150755614\n",
      "Brier - QDA: 0.3630422154753553\n",
      "Log - LDA: 0.6358834075817208\n",
      "Log - QDA: 0.6230297681619879\n",
      "Spherical - LDA: 0.8022184961687332\n",
      "Spherical - QDA: 0.796417880601983\n"
     ]
    }
   ],
   "source": [
    "k = 3\n",
    "eta = 0\n",
    "n_train = 100\n",
    "n_per_class = 50\n",
    "\n",
    "X_train, y_train, means, shared_cov, class_covs = setup_simulation(K=k, eta=eta, n_train=n_train)\n",
    "X_test, y_test = generate_data( n_per_class=n_per_class, eta=eta, K=k, means=means, shared_cov=shared_cov, class_covs=class_covs)\n",
    "\n",
    "lda = LinearDiscriminantAnalysis().fit(X_train, y_train)\n",
    "qda = QuadraticDiscriminantAnalysis().fit(X_train, y_train)\n",
    "\n",
    "y_pred_lda = lda.predict(X_test)\n",
    "y_pred_qda = qda.predict(X_test)\n",
    "p_lda = lda.predict_proba(X_test)\n",
    "p_qda = qda.predict_proba(X_test)\n",
    "\n",
    "print(\"Accuracy - LDA:\", accuracy_score(y_test, y_pred_lda))\n",
    "print(\"Accuracy - QDA:\", accuracy_score(y_test, y_pred_qda))\n",
    "\n",
    "print(\"Brier - LDA:\", brier_score(p_lda, y_test))\n",
    "print(\"Brier - QDA:\", brier_score(p_qda, y_test))\n",
    "\n",
    "print(\"Log - LDA:\", log_score(p_lda, y_test))\n",
    "print(\"Log - QDA:\", log_score(p_qda, y_test))\n",
    "\n",
    "print(\"Spherical - LDA:\", spherical_score(p_lda, y_test))\n",
    "print(\"Spherical - QDA:\", spherical_score(p_qda, y_test))"
   ]
  },
  {
   "cell_type": "code",
   "execution_count": 7,
   "metadata": {},
   "outputs": [
    {
     "name": "stdout",
     "output_type": "stream",
     "text": [
      "Avg LDA: 0.773333333333333\n",
      "Avg QDA: 0.7466666666666668\n"
     ]
    }
   ],
   "source": [
    "lda_scores, qda_scores = [], []\n",
    "\n",
    "for seed in range(100):\n",
    "    np.random.seed(seed)\n",
    "    X_train, y_train, means, shared_cov, class_covs = setup_simulation(K=3, eta=0.0, n_train=100)\n",
    "    X_test, y_test = generate_data(n_per_class=50, eta=0.0, K=3, means=means, shared_cov=shared_cov, class_covs=class_covs)\n",
    "\n",
    "    lda = LinearDiscriminantAnalysis().fit(X_train, y_train)\n",
    "    qda = QuadraticDiscriminantAnalysis().fit(X_train, y_train)\n",
    "\n",
    "    acc_lda = accuracy_score(y_test, lda.predict(X_test))\n",
    "    acc_qda = accuracy_score(y_test, qda.predict(X_test))\n",
    "\n",
    "    lda_scores.append(acc_lda)\n",
    "    qda_scores.append(acc_qda)\n",
    "\n",
    "print(\"Avg LDA:\", np.mean(lda_scores))\n",
    "print(\"Avg QDA:\", np.mean(qda_scores))\n"
   ]
  }
 ],
 "metadata": {
  "kernelspec": {
   "display_name": "IRR_venv",
   "language": "python",
   "name": "python3"
  },
  "language_info": {
   "codemirror_mode": {
    "name": "ipython",
    "version": 3
   },
   "file_extension": ".py",
   "mimetype": "text/x-python",
   "name": "python",
   "nbconvert_exporter": "python",
   "pygments_lexer": "ipython3",
   "version": "3.10.2"
  }
 },
 "nbformat": 4,
 "nbformat_minor": 2
}
